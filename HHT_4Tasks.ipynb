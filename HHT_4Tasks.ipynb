{
 "cells": [
  {
   "cell_type": "code",
   "execution_count": 1,
   "id": "ecfcbc92",
   "metadata": {},
   "outputs": [],
   "source": [
    "# importing necessary libraries\n",
    "import scipy.io\n",
    "import os\n",
    "import numpy as np\n",
    "import tensorflow as tf\n",
    "from scipy import angle, unwrap\n",
    "from tensorflow.keras import optimizers\n",
    "from tensorflow.keras.models import Sequential\n",
    "from tensorflow.keras.layers import Conv2D, MaxPooling2D\n",
    "from tensorflow.keras.layers import Activation, Dropout, Flatten, Dense\n",
    "from sklearn.model_selection import train_test_split\n",
    "from scipy.signal import hilbert\n",
    "from pyhht.visualization import plot_imfs\n",
    "import pyhht\n",
    "from pyhht import EMD\n",
    "import time\n",
    "from numpy import asarray\n",
    "from tqdm import tqdm\n",
    "import re\n",
    "from PIL import Image\n",
    "import time\n",
    "import pywt"
   ]
  },
  {
   "cell_type": "code",
   "execution_count": 2,
   "id": "14fdfc18",
   "metadata": {},
   "outputs": [],
   "source": [
    "from csv import writer\n",
    "def append_list_as_row(file_name, list_of_elem):\n",
    "    # open file in append mode\n",
    "    with open(file_name, 'a+', newline='') as write_obj:\n",
    "        # creating writer object from csv module\n",
    "        csv_writer = writer(write_obj)\n",
    "        csv_writer.writerow(list_of_elem)"
   ]
  },
  {
   "cell_type": "code",
   "execution_count": null,
   "id": "92f43372",
   "metadata": {},
   "outputs": [],
   "source": []
  },
  {
   "cell_type": "code",
   "execution_count": 3,
   "id": "611cc7f4",
   "metadata": {},
   "outputs": [],
   "source": [
    "# specified data and label directory\n",
    "data_dir = '/home/kiara/Desktop/EEG_Combined_Project/dataset/'\n",
    "# specifiying file names for dataset\n",
    "file_names = os.listdir(data_dir)\n",
    "\n",
    "file_names = [\"p4c2.mat\", \"p4c3.mat\", \"p4c4.mat\", \"p5c1.mat\", \"p5c2.mat\", \"p5c3.mat\", \"p5c4.mat\", \"p6c1.mat\", \"p6c2.mat\", \"p6c3.mat\", \"p6c4.mat\", \"p8c1.mat\", \"p8c2.mat\", \"p8c3.mat\", \"p8c4.mat\", \"p9c1.mat\", \"p9c2.mat\", \"p9c3.mat\", \"p9c4.mat\", \"p10c1.mat\", \"p10c2.mat\", \"p10c3.mat\", \"p10c4.mat\", \"p11c1.mat\", \"p11c2.mat\", \"p11c3.mat\", \"p11c4.mat\", \"p12c1.mat\", \"p12c2.mat\", \"p12c3.mat\", \"p12c4.mat\", \"p13c1.mat\", \"p13c2.mat\", \"p13c3.mat\", \"p13c4.mat\", \"p15c1.mat\", \"p15c2.mat\", \"p15c3.mat\", \"p15c4.mat\", \"p16c1.mat\", \"p16c2.mat\", \"p16c3.mat\", \"p16c4.mat\", \"p17c1.mat\", \"p17c2.mat\", \"p17c3.mat\", \"p17c4.mat\", \"p18c1.mat\", \"p18c2.mat\", \"p18c3.mat\", \"p18c4.mat\", \"p20c1.mat\", \"p20c2.mat\", \"p20c3.mat\", \"p20c4.mat\", \"p21c1.mat\", \"p21c2.mat\", \"p21c3.mat\", \"p21c4.mat\", \"p23c1.mat\", \"p23c2.mat\", \"p23c3.mat\", \"p23c4.mat\", \"p24c1.mat\", \"p24c2.mat\", \"p24c3.mat\", \"p24c4.mat\"]"
   ]
  },
  {
   "cell_type": "code",
   "execution_count": 4,
   "id": "721cb96e",
   "metadata": {},
   "outputs": [],
   "source": [
    "# defining variables\n",
    "# choosing a file for data extraction\n",
    "file_name1 = file_names[17]\n",
    "# generating random number for random selection of train and test set\n",
    "m = re.search('p(.+?)c', file_name1)\n",
    "if m:\n",
    "    random_state_value = int(m.group(1))"
   ]
  },
  {
   "cell_type": "code",
   "execution_count": 5,
   "id": "6c517bb9",
   "metadata": {},
   "outputs": [],
   "source": [
    "# obtaining the data as numpy array\n",
    "load_file1 = os.path.join(data_dir, file_name1)\n",
    "data1 = scipy.io.loadmat(load_file1)\n",
    "my_data = data1['A']\n",
    "# obtaining timestamps at which the labels switch\n",
    "my_label1 = data1['latency']"
   ]
  },
  {
   "cell_type": "code",
   "execution_count": 6,
   "id": "a89a0bc7",
   "metadata": {},
   "outputs": [],
   "source": [
    "# obtaining timestamps at which the labels switch as a list with 0 as the initial value\n",
    "my_label1_shape = [0]\n",
    "for i in range(my_label1.shape[1]):\n",
    "    my_label1_shape.append(my_label1[0][i])\n",
    "    \n",
    "# choosing a limiting value to facilitate label creation\n",
    "limiter = len(my_label1_shape)\n",
    "# obtaining dimensions of the data\n",
    "dims1 = my_data.shape[0]\n",
    "dims2 = my_data.shape[1]"
   ]
  },
  {
   "cell_type": "code",
   "execution_count": 7,
   "id": "38e68e49",
   "metadata": {},
   "outputs": [],
   "source": [
    "# preparing labels as a numpy array\n",
    "Y_train = np.zeros((len(my_label1_shape)), dtype = np.float32)\n",
    "label_zero = 0\n",
    "label_one = 1\n",
    "for i in range(0, limiter): # this runs from 0 to 17\n",
    "    if (i<(limiter-1)):\n",
    "        if (i==0 and (i != limiter-1)):\n",
    "            Y_train[i] = label_zero\n",
    "        \n",
    "        elif (i%2!=0 and i!=0 and i != (limiter-1)):\n",
    "            Y_train[i] = label_one\n",
    "        \n",
    "        elif ((i%2==0) and (i!=0) and (i != (limiter-1))):\n",
    "            Y_train[i] = label_zero\n",
    "            \n",
    "    elif (i >= (limiter-1)):\n",
    "        #print(\"this loop is executing\")\n",
    "        #print(i)\n",
    "        if (i%2==0):\n",
    "            Y_train[i] = label_zero\n",
    "        elif (i%2!=0):\n",
    "            Y_train[i] = label_one"
   ]
  },
  {
   "cell_type": "code",
   "execution_count": 8,
   "id": "6e017037",
   "metadata": {},
   "outputs": [],
   "source": [
    "# obtaining a label list with end and begining time stamps included\n",
    "l1=my_label1_shape\n",
    "l1.append(dims2)\n",
    "# a list with durationof each time stamp for data\n",
    "res = [l1[i + 1] - l1[i] for i in range(len(l1)-1)] "
   ]
  },
  {
   "cell_type": "code",
   "execution_count": 9,
   "id": "933e30de",
   "metadata": {},
   "outputs": [],
   "source": [
    "X_train = np.zeros((Y_train.shape[0], dims1, max(res)), dtype = np.float32)\n",
    "# creating X_train with 0 padded to make all the columns of the same dimension\n",
    "for i in range(Y_train.shape[0]): \n",
    "    if (i<(Y_train.shape[0]-1)):\n",
    "        arr1 = my_data[0:dims1, l1[i]:l1[i+1]]\n",
    "        to_pad = max(res) - arr1.shape[1]\n",
    "        X_add = np.pad(arr1, ((0,0),(0,to_pad)))\n",
    "        X_train[i] = X_add\n",
    "    elif (i==(Y_train.shape[0]-1)):\n",
    "        arr1 = my_data[0:dims1, l1[i]:dims2]\n",
    "        to_pad = max(res) - arr1.shape[1]\n",
    "        X_add = np.pad(arr1, ((0,0),(0,to_pad)))\n",
    "        X_train[i] = X_add\n",
    "    else:\n",
    "        print(\"----------------------------ERROR HAS OCCURED--------------------------------------\")\n",
    "        print(file_name1)"
   ]
  },
  {
   "cell_type": "code",
   "execution_count": 10,
   "id": "f6ad3c3e",
   "metadata": {},
   "outputs": [
    {
     "name": "stdout",
     "output_type": "stream",
     "text": [
      "Mode 8, Iteration 600\n",
      "1 minima > 0; 6 maxima < 0.\n",
      "Mode 8, Iteration 600\n",
      "0 minima > 0; 4 maxima < 0.\n",
      "Mode 7, Iteration 600\n",
      "0 minima > 0; 6 maxima < 0.\n",
      "Mode 9, Iteration 600\n",
      "0 minima > 0; 3 maxima < 0.\n",
      "Mode 6, Iteration 600\n",
      "0 minima > 0; 15 maxima < 0.\n",
      "Mode 6, Iteration 800\n",
      "0 minima > 0; 15 maxima < 0.\n",
      "Mode 8, Iteration 600\n",
      "1 minima > 0; 6 maxima < 0.\n",
      "Mode 8, Iteration 800\n",
      "1 minima > 0; 6 maxima < 0.\n",
      "Mode 8, Iteration 1000\n",
      "0 minima > 0; 6 maxima < 0.\n",
      "Mode 8, Iteration 1200\n",
      "0 minima > 0; 6 maxima < 0.\n",
      "Mode 8, Iteration 1400\n",
      "0 minima > 0; 6 maxima < 0.\n",
      "Mode 9, Iteration 1600\n",
      "0 minima > 0; 3 maxima < 0.\n",
      "Mode 8, Iteration 600\n",
      "0 minima > 0; 3 maxima < 0.\n",
      "Mode 9, Iteration 600\n",
      "0 minima > 0; 3 maxima < 0.\n",
      "Mode 5, Iteration 600\n",
      "0 minima > 0; 8 maxima < 0.\n",
      "Mode 6, Iteration 800\n",
      "0 minima > 0; 5 maxima < 0.\n",
      "Mode 5, Iteration 600\n",
      "0 minima > 0; 7 maxima < 0.\n",
      "Mode 6, Iteration 600\n",
      "0 minima > 0; 4 maxima < 0.\n",
      "Mode 6, Iteration 600\n",
      "0 minima > 0; 4 maxima < 0.\n",
      "Mode 6, Iteration 800\n",
      "0 minima > 0; 4 maxima < 0.\n",
      "Mode 6, Iteration 600\n",
      "0 minima > 0; 5 maxima < 0.\n",
      "Mode 5, Iteration 600\n",
      "0 minima > 0; 5 maxima < 0.\n",
      "Mode 5, Iteration 800\n",
      "0 minima > 0; 5 maxima < 0.\n",
      "Mode 5, Iteration 600\n",
      "0 minima > 0; 7 maxima < 0.\n",
      "Mode 5, Iteration 800\n",
      "0 minima > 0; 7 maxima < 0.\n",
      "Mode 5, Iteration 1000\n",
      "0 minima > 0; 7 maxima < 0.\n",
      "Mode 5, Iteration 1200\n",
      "0 minima > 0; 7 maxima < 0.\n",
      "Mode 6, Iteration 1400\n",
      "0 minima > 0; 4 maxima < 0.\n",
      "Mode 6, Iteration 1600\n",
      "0 minima > 0; 4 maxima < 0.\n",
      "Mode 1, Iteration 600\n",
      "0 minima > 0; 82 maxima < 0.\n",
      "Mode 1, Iteration 800\n",
      "0 minima > 0; 81 maxima < 0.\n",
      "Mode 4, Iteration 1000\n",
      "0 minima > 0; 14 maxima < 0.\n",
      "Mode 6, Iteration 1200\n",
      "0 minima > 0; 3 maxima < 0.\n",
      "Mode 5, Iteration 600\n",
      "0 minima > 0; 11 maxima < 0.\n",
      "Mode 4, Iteration 600\n",
      "1 minima > 0; 17 maxima < 0.\n",
      "Mode 6, Iteration 800\n",
      "0 minima > 0; 6 maxima < 0.\n",
      "Mode 5, Iteration 600\n",
      "0 minima > 0; 6 maxima < 0.\n",
      "Mode 7, Iteration 800\n",
      "0 minima > 0; 2 maxima < 0.\n",
      "Mode 6, Iteration 600\n",
      "0 minima > 0; 4 maxima < 0.\n",
      "Mode 4, Iteration 600\n",
      "0 minima > 0; 22 maxima < 0.\n",
      "Mode 4, Iteration 800\n",
      "0 minima > 0; 21 maxima < 0.\n",
      "Mode 5, Iteration 1000\n",
      "0 minima > 0; 12 maxima < 0.\n",
      "Mode 1, Iteration 600\n",
      "1 minima > 0; 87 maxima < 0.\n",
      "Mode 3, Iteration 800\n",
      "0 minima > 0; 30 maxima < 0.\n",
      "Mode 5, Iteration 1000\n",
      "0 minima > 0; 8 maxima < 0.\n",
      "Mode 5, Iteration 600\n",
      "0 minima > 0; 5 maxima < 0.\n",
      "Mode 5, Iteration 800\n",
      "0 minima > 0; 5 maxima < 0.\n",
      "Mode 6, Iteration 1000\n",
      "0 minima > 0; 3 maxima < 0.\n",
      "Mode 6, Iteration 1200\n",
      "0 minima > 0; 3 maxima < 0.\n",
      "Mode 6, Iteration 1400\n",
      "0 minima > 0; 3 maxima < 0.\n",
      "Mode 5, Iteration 600\n",
      "0 minima > 0; 8 maxima < 0.\n",
      "Mode 6, Iteration 800\n",
      "0 minima > 0; 6 maxima < 0.\n",
      "Mode 5, Iteration 600\n",
      "0 minima > 0; 8 maxima < 0.\n",
      "Mode 5, Iteration 600\n",
      "0 minima > 0; 3 maxima < 0.\n",
      "Mode 5, Iteration 800\n",
      "0 minima > 0; 3 maxima < 0.\n",
      "Mode 4, Iteration 600\n",
      "1 minima > 0; 15 maxima < 0.\n",
      "Mode 6, Iteration 800\n",
      "0 minima > 0; 5 maxima < 0.\n",
      "Mode 4, Iteration 600\n",
      "0 minima > 0; 6 maxima < 0.\n",
      "Mode 5, Iteration 800\n",
      "0 minima > 0; 3 maxima < 0.\n",
      "Mode 5, Iteration 1000\n",
      "0 minima > 0; 4 maxima < 0.\n",
      "Mode 5, Iteration 1200\n",
      "0 minima > 0; 3 maxima < 0.\n",
      "Mode 4, Iteration 600\n",
      "0 minima > 0; 12 maxima < 0.\n",
      "Mode 4, Iteration 800\n",
      "0 minima > 0; 12 maxima < 0.\n",
      "Mode 6, Iteration 1000\n",
      "0 minima > 0; 3 maxima < 0.\n",
      "Mode 6, Iteration 1200\n",
      "0 minima > 0; 4 maxima < 0.\n",
      "Mode 6, Iteration 600\n",
      "0 minima > 0; 4 maxima < 0.\n",
      "Mode 5, Iteration 600\n",
      "0 minima > 0; 6 maxima < 0.\n",
      "Mode 5, Iteration 800\n",
      "0 minima > 0; 6 maxima < 0.\n",
      "Mode 5, Iteration 600\n",
      "0 minima > 0; 8 maxima < 0.\n",
      "Mode 7, Iteration 800\n",
      "0 minima > 0; 2 maxima < 0.\n",
      "Mode 6, Iteration 600\n",
      "0 minima > 0; 5 maxima < 0.\n",
      "Mode 3, Iteration 600\n",
      "0 minima > 0; 31 maxima < 0.\n",
      "Mode 6, Iteration 600\n",
      "0 minima > 0; 4 maxima < 0.\n",
      "Mode 6, Iteration 800\n",
      "0 minima > 0; 4 maxima < 0.\n",
      "Mode 7, Iteration 1000\n",
      "0 minima > 0; 2 maxima < 0.\n",
      "Mode 5, Iteration 600\n",
      "0 minima > 0; 9 maxima < 0.\n",
      "Mode 5, Iteration 600\n",
      "0 minima > 0; 5 maxima < 0.\n",
      "Mode 6, Iteration 600\n",
      "0 minima > 0; 3 maxima < 0.\n",
      "Mode 5, Iteration 600\n",
      "0 minima > 0; 3 maxima < 0.\n",
      "Mode 5, Iteration 800\n",
      "0 minima > 0; 3 maxima < 0.\n",
      "Mode 6, Iteration 600\n",
      "0 minima > 0; 3 maxima < 0.\n",
      "Mode 6, Iteration 800\n",
      "0 minima > 0; 3 maxima < 0.\n"
     ]
    }
   ],
   "source": [
    "# to use 4 imfs, change no_of_imfs variable to 4 and uncomment the commented statements\n",
    "no_of_imfs = 1                                              # 1, 2, 3, 4\n",
    "x_train = np.zeros((X_train.shape[0], X_train.shape[1], no_of_imfs, X_train.shape[2]), dtype = np.float32)\n",
    "for trial in range(0, X_train.shape[0]):\n",
    "    for channel in range(0, X_train.shape[1]):\n",
    "        decomposer = EMD(X_train[trial][channel])\n",
    "        imfs = decomposer.decompose()\n",
    "        #x_train[trial][channel][0] = imfs[0]\n",
    "        x_train[trial][channel][0] = imfs[1]\n",
    "        #x_train[trial][channel][2] = imfs[2]\n",
    "        #x_train[trial][channel][3] = imfs[3]"
   ]
  },
  {
   "cell_type": "code",
   "execution_count": 11,
   "id": "2d30797f",
   "metadata": {},
   "outputs": [],
   "source": [
    "# obtaining real and imaginary parts of the hht transformed signal\n",
    "signal = hilbert(x_train)\n",
    "signal_real = np.real(signal)\n",
    "signal_imag = np.imag(signal)\n",
    "\n",
    "#xt = np.dstack((signal_real, signal_imag))\n",
    "#xt = xt.reshape(xt.shape[0], xt.shape[1] * xt.shape[2], xt.shape[3])\n",
    "\n",
    "# calculating amplitude, instantaneous frequency and instantaneous phase\n",
    "inst_phase = np.unwrap(np.angle(signal)) # unwrapped instantaneous phase\n",
    "inst_freq = np.diff(inst_phase) # instantaneous frequency\n",
    "amplitude = np.abs(signal)"
   ]
  },
  {
   "cell_type": "code",
   "execution_count": 12,
   "id": "bad6b97d",
   "metadata": {},
   "outputs": [],
   "source": [
    "# calculating frequency\n",
    "freq = np.zeros((amplitude.shape[0], amplitude.shape[1], amplitude.shape[2], amplitude.shape[3]), dtype = np.float32)\n",
    "sh = inst_freq.shape[2] - 1\n",
    "for i in range(amplitude.shape[0]):\n",
    "    for j in range(amplitude.shape[1]):\n",
    "        for k in range(amplitude.shape[2]):\n",
    "            freq[i][j][k] = np.append(inst_freq[i][j][k], inst_freq[i][j][k][sh])   "
   ]
  },
  {
   "cell_type": "code",
   "execution_count": 13,
   "id": "951f6a94",
   "metadata": {},
   "outputs": [
    {
     "name": "stdout",
     "output_type": "stream",
     "text": [
      "(17, 2, 64, 1, 15047)\n"
     ]
    }
   ],
   "source": [
    "x_train = np.stack((amplitude, freq), axis=1)\n",
    "print(x_train.shape)\n",
    "# reshaping the data\n",
    "x_train = x_train.reshape(x_train.shape[0], x_train.shape[2], x_train.shape[4], x_train.shape[1] * x_train.shape[3])"
   ]
  },
  {
   "cell_type": "code",
   "execution_count": 14,
   "id": "4e24f5dc",
   "metadata": {},
   "outputs": [],
   "source": [
    "# assigning model and log directory names\n",
    "m = re.search('p(.+?)c', file_name1)\n",
    "#log_directory = 'Log_HHT__p'+str(m.group(1))\n",
    "log_directory = 'Log_HHT__p'+str(file_name1)\n",
    "#model_name = 'model_HHT__p'+str(m.group(1))+'.h5'\n",
    "model_name = 'model_HHT__p'+str(file_name1)+'.h5'"
   ]
  },
  {
   "cell_type": "code",
   "execution_count": 15,
   "id": "c101363d",
   "metadata": {},
   "outputs": [],
   "source": [
    "# performing train-test split\n",
    "X_Train, X_Test, Y_Train, Y_Test = train_test_split(x_train, Y_train, test_size=0.1)"
   ]
  },
  {
   "cell_type": "code",
   "execution_count": 16,
   "id": "c88979b6",
   "metadata": {},
   "outputs": [],
   "source": [
    "# assigning input shape\n",
    "INPUT_SHAPE = (X_Train.shape[1], X_Train.shape[2], X_Train.shape[3]) "
   ]
  },
  {
   "cell_type": "code",
   "execution_count": 17,
   "id": "e027456b",
   "metadata": {},
   "outputs": [
    {
     "name": "stdout",
     "output_type": "stream",
     "text": [
      "Model: \"sequential\"\n",
      "_________________________________________________________________\n",
      "Layer (type)                 Output Shape              Param #   \n",
      "=================================================================\n",
      "conv2d (Conv2D)              (None, 62, 15045, 64)     1216      \n",
      "_________________________________________________________________\n",
      "activation (Activation)      (None, 62, 15045, 64)     0         \n",
      "_________________________________________________________________\n",
      "max_pooling2d (MaxPooling2D) (None, 31, 7522, 64)      0         \n",
      "_________________________________________________________________\n",
      "conv2d_1 (Conv2D)            (None, 29, 7520, 64)      36928     \n",
      "_________________________________________________________________\n",
      "activation_1 (Activation)    (None, 29, 7520, 64)      0         \n",
      "_________________________________________________________________\n",
      "max_pooling2d_1 (MaxPooling2 (None, 14, 3760, 64)      0         \n",
      "_________________________________________________________________\n",
      "conv2d_2 (Conv2D)            (None, 12, 3758, 128)     73856     \n",
      "_________________________________________________________________\n",
      "activation_2 (Activation)    (None, 12, 3758, 128)     0         \n",
      "_________________________________________________________________\n",
      "max_pooling2d_2 (MaxPooling2 (None, 6, 1879, 128)      0         \n",
      "_________________________________________________________________\n",
      "flatten (Flatten)            (None, 1443072)           0         \n",
      "_________________________________________________________________\n",
      "dropout (Dropout)            (None, 1443072)           0         \n",
      "_________________________________________________________________\n",
      "dense (Dense)                (None, 1)                 1443073   \n",
      "_________________________________________________________________\n",
      "activation_3 (Activation)    (None, 1)                 0         \n",
      "=================================================================\n",
      "Total params: 1,555,073\n",
      "Trainable params: 1,555,073\n",
      "Non-trainable params: 0\n",
      "_________________________________________________________________\n",
      "None\n"
     ]
    }
   ],
   "source": [
    "# model definition\n",
    "model = Sequential()\n",
    "#l = [32, 64]\n",
    "l = [64, 128]\n",
    "model.add(Conv2D(l[0], (3, 3), input_shape=INPUT_SHAPE))\n",
    "model.add(Activation('relu'))\n",
    "model.add(MaxPooling2D(pool_size=(2, 2)))\n",
    "\n",
    "model.add(Conv2D(l[0], (3, 3)))\n",
    "model.add(Activation('relu'))\n",
    "model.add(MaxPooling2D(pool_size=(2, 2)))\n",
    "\n",
    "model.add(Conv2D(l[1], (3, 3)))\n",
    "model.add(Activation('relu'))\n",
    "model.add(MaxPooling2D(pool_size=(2, 2)))\n",
    "\n",
    "model.add(Flatten())\n",
    "#model.add(Dense(128))\n",
    "#model.add(Activation('relu'))\n",
    "#model.add(Dropout(0.5))\n",
    "#model.add(Dense(128))\n",
    "#model.add(Activation('relu'))\n",
    "model.add(Dropout(0.5))\n",
    "model.add(Dense(1))\n",
    "model.add(Activation('sigmoid'))\n",
    "\n",
    "opt = tf.keras.optimizers.Adam(learning_rate=0.001)\n",
    "model.compile(optimizer=opt, loss='binary_crossentropy', metrics=['acc'])\n",
    "print(model.summary())"
   ]
  },
  {
   "cell_type": "code",
   "execution_count": 18,
   "id": "38606e10",
   "metadata": {},
   "outputs": [],
   "source": [
    "callbacks = [\n",
    "    tf.keras.callbacks.EarlyStopping(patience = 200, monitor = 'val_loss'),\n",
    "    tf.keras.callbacks.TensorBoard(log_dir = log_directory)\n",
    "]"
   ]
  },
  {
   "cell_type": "code",
   "execution_count": 19,
   "id": "d45bfc0a",
   "metadata": {},
   "outputs": [],
   "source": [
    "# model training\n",
    "results = model.fit(X_Train, Y_Train, validation_split = 0.2, batch_size = 4, epochs = 500, verbose=0, callbacks=callbacks)\n",
    "#model.save(model_name)"
   ]
  },
  {
   "cell_type": "code",
   "execution_count": 20,
   "id": "70b80ecb",
   "metadata": {},
   "outputs": [
    {
     "name": "stdout",
     "output_type": "stream",
     "text": [
      "1/1 [==============================] - 0s 369ms/step - loss: 0.2943 - acc: 1.0000\n"
     ]
    }
   ],
   "source": [
    "# model evaluation on test data\n",
    "h_scores = model.evaluate(X_Test, Y_Test, verbose=1)"
   ]
  },
  {
   "cell_type": "code",
   "execution_count": 21,
   "id": "c476ecf6",
   "metadata": {},
   "outputs": [],
   "source": [
    "# predicting test data values\n",
    "Y_hat = model.predict(X_Test)\n",
    "Y_pred = []\n",
    "for item in Y_hat:\n",
    "    if item>=(np.mean(Y_hat)):\n",
    "        Y_pred.append(1)\n",
    "    else:\n",
    "        Y_pred.append(0)\n",
    "        \n",
    "correct = 0\n",
    "for i in range(len(Y_pred)):\n",
    "    if Y_Test[i] == Y_pred[i]:\n",
    "        correct += 1\n",
    "h_accuracy = correct/len(Y_pred)"
   ]
  },
  {
   "cell_type": "code",
   "execution_count": 22,
   "id": "aa1eb522",
   "metadata": {},
   "outputs": [
    {
     "name": "stdout",
     "output_type": "stream",
     "text": [
      "Accuracy from HHT\n",
      "1.0\n"
     ]
    }
   ],
   "source": [
    "# obtaining accuracy values\n",
    "print(\"Accuracy from HHT\")\n",
    "print(h_accuracy)"
   ]
  },
  {
   "cell_type": "code",
   "execution_count": 23,
   "id": "03cdc83c",
   "metadata": {},
   "outputs": [],
   "source": [
    "'''for i in range(0, 7):\n",
    "    #X_Trainer, X_Tester, Y_Trainer, Y_Tester = train_test_split(X_Train, Y_Train, test_size=0.2, random_state = random_state_value+i)\n",
    "    results = model.fit(X_Train, Y_Train, validation_split = 0.2, batch_size = 4, epochs = 500, verbose=1, callbacks=callbacks)\n",
    "#model.save(model_name)\n",
    "'''\n",
    "#%tensorboard --logdir log_directory\n",
    "\n",
    "# uncomment to append values as rows into csv file\n",
    "row_contents = [file_name1, h_scores[1], h_accuracy]\n",
    "#row_contents = ['Participant', 'Accuracy_Wavelet']\n",
    "#append_list_as_row('/home/kiara/Desktop/HHT3.csv', row_contents)"
   ]
  },
  {
   "cell_type": "code",
   "execution_count": null,
   "id": "2c52ad1b",
   "metadata": {},
   "outputs": [],
   "source": []
  }
 ],
 "metadata": {
  "kernelspec": {
   "display_name": "Python 3",
   "language": "python",
   "name": "python3"
  },
  "language_info": {
   "codemirror_mode": {
    "name": "ipython",
    "version": 3
   },
   "file_extension": ".py",
   "mimetype": "text/x-python",
   "name": "python",
   "nbconvert_exporter": "python",
   "pygments_lexer": "ipython3",
   "version": "3.8.10"
  }
 },
 "nbformat": 4,
 "nbformat_minor": 5
}
